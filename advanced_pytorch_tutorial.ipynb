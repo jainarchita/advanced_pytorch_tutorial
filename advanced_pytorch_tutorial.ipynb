{
 "cells": [
  {
   "cell_type": "markdown",
   "metadata": {},
   "source": [
    "# A Tutorial on Advanced PyTorch Techniques\n",
    "\n",
    "**Companion Notebook for the Advanced PyTorch Presentation in this Repo**\n",
    "\n",
    "This notebook provides a hands-on walkthrough of the concepts discussed in the presentation. Here, you'll find executable code for custom modules, loss functions, advanced training loops, and more. The goal is to bridge the gap between theory and implementation, enabling you to apply these techniques directly into your code."
   ]
  },
  {
   "cell_type": "markdown",
   "metadata": {},
   "source": [
    "## Section 1: Foundations Recap"
   ]
  },
  {
   "cell_type": "markdown",
   "metadata": {},
   "source": [
    "### Tensors and Autograd\n",
    "\n",
    "Everything in PyTorch is built upon the `Tensor`. Let's start with a quick refresher on creating tensors and tracking gradients with `autograd`."
   ]
  },
  {
   "cell_type": "code",
   "execution_count": 1,
   "metadata": {},
   "outputs": [
    {
     "name": "stdout",
     "output_type": "stream",
     "text": [
      "Using device: cpu\n",
      "Gradient for w: tensor([[-1.1562,  1.3740,  0.4931]])\n",
      "Gradient for b: tensor([[1.]])\n"
     ]
    }
   ],
   "source": [
    "import torch\n",
    "\n",
    "# Check for GPU availability\n",
    "device = 'cuda' if torch.cuda.is_available() else 'cpu'\n",
    "print(f'Using device: {device}')\n",
    "\n",
    "# Create tensors, specifying that we want to track their gradients\n",
    "x = torch.randn(3, 1, requires_grad=True, device=device)\n",
    "w = torch.randn(1, 3, requires_grad=True, device=device)\n",
    "b = torch.randn(1, 1, requires_grad=True, device=device)\n",
    "\n",
    "# Build a simple computation graph (y = w * x + b)\n",
    "y = torch.matmul(w, x) + b\n",
    "\n",
    "# Define a dummy loss\n",
    "loss = torch.sum(y)\n",
    "\n",
    "# Backpropagate to compute gradients\n",
    "loss.backward()\n",
    "\n",
    "# The gradients are now stored in the .grad attribute of each tensor\n",
    "print(\"Gradient for w:\", w.grad)\n",
    "print(\"Gradient for b:\", b.grad)"
   ]
  },
  {
   "cell_type": "markdown",
   "metadata": {},
   "source": [
    "### Working with CUDA\n",
    "\n",
    "While `device = 'cuda'` works, it's useful to understand the specifics of GPU operations. The most common source of error is a \"device mismatch,\" where tensors involved in an operation live on different devices (e.g., one on CPU, one on GPU)."
   ]
  },
  {
   "cell_type": "code",
   "execution_count": null,
   "metadata": {},
   "outputs": [],
   "source": [
    "if device == 'cuda':\n",
    "    # Tensors must be explicitly moved to the GPU\n",
    "    cpu_tensor = torch.randn(3, 3)\n",
    "    print(f\"CPU Tensor Device: {cpu_tensor.device}\")\n",
    "    \n",
    "    gpu_tensor = cpu_tensor.to(device)\n",
    "    print(f\"GPU Tensor Device: {gpu_tensor.device}\")\n",
    "    \n",
    "    # This will cause a runtime error:\n",
    "    try:\n",
    "        result = cpu_tensor + gpu_tensor\n",
    "    except RuntimeError as e:\n",
    "        print(f\"\\nError: {e}\")\n",
    "    \n",
    "    # The fix is to ensure all tensors are on the same device\n",
    "    gpu_tensor_2 = torch.randn(3, 3).to(device)\n",
    "    result = gpu_tensor + gpu_tensor_2\n",
    "    print(f\"\\nSuccessful operation. Result device: {result.device}\")\n",
    "    \n",
    "    # Asynchronous Execution: CUDA operations are asynchronous.\n",
    "    # This means the Python code continues executing without waiting for the GPU operation to finish.\n",
    "    # To accurately benchmark code, you need to synchronize.\n",
    "    import time\n",
    "    \n",
    "    start_time = time.time()\n",
    "    large_tensor_a = torch.randn(10000, 10000, device=device)\n",
    "    large_tensor_b = torch.randn(10000, 10000, device=device)\n",
    "    c = large_tensor_a @ large_tensor_b\n",
    "    torch.cuda.synchronize() # Wait for the GPU operation to complete\n",
    "    end_time = time.time()\n",
    "    \n",
    "    print(f\"\\nTime with synchronization: {end_time - start_time:.4f} seconds\")\n",
    "else:\n",
    "    print(\"CUDA not available. Skipping CUDA-specific section.\")"
   ]
  },
  {
   "cell_type": "markdown",
   "metadata": {},
   "source": [
    "### The `nn.Module`\n",
    "\n",
    "The `nn.Module` is the cornerstone of building models. It automatically tracks parameters and provides helpful utilities."
   ]
  },
  {
   "cell_type": "code",
   "execution_count": 2,
   "metadata": {},
   "outputs": [
    {
     "name": "stdout",
     "output_type": "stream",
     "text": [
      "SimpleModel(\n",
      "  (layer1): Linear(in_features=10, out_features=20, bias=True)\n",
      "  (activation): ReLU()\n",
      "  (layer2): Linear(in_features=20, out_features=5, bias=True)\n",
      ")\n",
      "layer1.weight torch.Size([20, 10])\n",
      "layer1.bias torch.Size([20])\n",
      "layer2.weight torch.Size([5, 20])\n",
      "layer2.bias torch.Size([5])\n"
     ]
    }
   ],
   "source": [
    "import torch.nn as nn\n",
    "\n",
    "class SimpleModel(nn.Module):\n",
    "    def __init__(self):\n",
    "        super(SimpleModel, self).__init__()\n",
    "        # Define layers. Their parameters are automatically registered.\n",
    "        self.layer1 = nn.Linear(in_features=10, out_features=20)\n",
    "        self.activation = nn.ReLU()\n",
    "        self.layer2 = nn.Linear(in_features=20, out_features=5)\n",
    "    \n",
    "    def forward(self, x):\n",
    "        # Define the data flow\n",
    "        x = self.layer1(x)\n",
    "        x = self.activation(x)\n",
    "        x = self.layer2(x)\n",
    "        return x\n",
    "\n",
    "# Instantiate the model and move it to the selected device\n",
    "model = SimpleModel().to(device)\n",
    "\n",
    "# PyTorch provides a clean summary of the model architecture\n",
    "print(model)\n",
    "\n",
    "# You can easily inspect all model parameters\n",
    "for name, param in model.named_parameters():\n",
    "    if param.requires_grad:\n",
    "        print(name, param.shape)"
   ]
  },
  {
   "cell_type": "markdown",
   "metadata": {},
   "source": [
    "## Section 2: Custom Architectures"
   ]
  },
  {
   "attachments": {
    "image.png": {
     "image/png": "[encoded data removed]"
    }
   },
   "cell_type": "markdown",
   "metadata": {},
   "source": [
    "### Example: Custom ResNet Block\n",
    "\n",
    "Research often requires implementing architectures that don't fit into a simple sequential pattern. A residual block, with its skip connection, is a perfect example. We define the layers in `__init__` and the complex data flow (including the addition of the skip connection) in `forward`.\n",
    "\n",
    "As a refresher, the basic block in ResNet architecture looks like this:\n",
    "\n",
    "![image.png](attachment:image.png)\n",
    "\n",
    "_Snippet of a ResNet50 model's skip connection architecture visualized using Netron_"
   ]
  },
  {
   "cell_type": "code",
   "execution_count": 3,
   "metadata": {},
   "outputs": [
    {
     "name": "stdout",
     "output_type": "stream",
     "text": [
      "Input shape: torch.Size([2, 64, 32, 32])\n",
      "Output shape: torch.Size([2, 128, 16, 16])\n"
     ]
    }
   ],
   "source": [
    "import torch.nn.functional as F\n",
    "\n",
    "class BasicBlock(nn.Module):\n",
    "    def __init__(self, in_channels, out_channels, stride=1):\n",
    "        super(BasicBlock, self).__init__()\n",
    "        # Main path\n",
    "        self.conv1 = nn.Conv2d(in_channels, out_channels, kernel_size=3, stride=stride, padding=1, bias=False)\n",
    "        self.bn1 = nn.BatchNorm2d(out_channels)\n",
    "        self.conv2 = nn.Conv2d(out_channels, out_channels, kernel_size=3, stride=1, padding=1, bias=False)\n",
    "        self.bn2 = nn.BatchNorm2d(out_channels)\n",
    "\n",
    "        # Shortcut path to handle dimension changes (if stride is not 1 or channels change)\n",
    "        self.shortcut = nn.Sequential()\n",
    "        if stride != 1 or in_channels != out_channels:\n",
    "            self.shortcut = nn.Sequential(\n",
    "                nn.Conv2d(in_channels, out_channels, kernel_size=1, stride=stride, bias=False),\n",
    "                nn.BatchNorm2d(out_channels)\n",
    "            )\n",
    "\n",
    "    def forward(self, x):\n",
    "        out = F.relu(self.bn1(self.conv1(x)))\n",
    "        out = self.bn2(self.conv2(out))\n",
    "        out += self.shortcut(x) # The skip connection is just an addition\n",
    "        out = F.relu(out)\n",
    "        return out\n",
    "\n",
    "# Test the block with a random input tensor\n",
    "input_tensor = torch.randn(2, 64, 32, 32).to(device) # (batch, channels, height, width)\n",
    "resnet_block = BasicBlock(in_channels=64, out_channels=128, stride=2).to(device)\n",
    "output_tensor = resnet_block(input_tensor)\n",
    "\n",
    "print(\"Input shape:\", input_tensor.shape)\n",
    "print(\"Output shape:\", output_tensor.shape)"
   ]
  },
  {
   "cell_type": "markdown",
   "metadata": {},
   "source": [
    "### Example: Multi-Branch (Inception-like) Module\n",
    "\n",
    "This module processes an input through several parallel convolutional paths and then concatenates the results."
   ]
  },
  {
   "cell_type": "code",
   "execution_count": 4,
   "metadata": {},
   "outputs": [
    {
     "name": "stdout",
     "output_type": "stream",
     "text": [
      "Input shape: torch.Size([2, 64, 32, 32])\n",
      "Output shape: torch.Size([2, 96, 32, 32])\n"
     ]
    }
   ],
   "source": [
    "class InceptionModule(nn.Module):\n",
    "    def __init__(self, in_channels, out_channels_1x1, out_channels_3x3, out_channels_5x5):\n",
    "        super(InceptionModule, self).__init__()\n",
    "        self.branch1 = nn.Conv2d(in_channels, out_channels_1x1, kernel_size=1)\n",
    "        self.branch2 = nn.Conv2d(in_channels, out_channels_3x3, kernel_size=3, padding=1)\n",
    "        self.branch3 = nn.Conv2d(in_channels, out_channels_5x5, kernel_size=5, padding=2)\n",
    "    \n",
    "    def forward(self, x):\n",
    "        # Process input through each branch\n",
    "        out1 = self.branch1(x)\n",
    "        out2 = self.branch2(x)\n",
    "        out3 = self.branch3(x)\n",
    "        # Concatenate results along the channel dimension (dim=1)\n",
    "        return torch.cat([out1, out2, out3], dim=1)\n",
    "\n",
    "input_tensor = torch.randn(2, 64, 32, 32).to(device)\n",
    "inception_block = InceptionModule(64, 32, 48, 16).to(device)\n",
    "output_tensor = inception_block(input_tensor)\n",
    "\n",
    "print(\"Input shape:\", input_tensor.shape)\n",
    "# The output channels should be the sum of the branch output channels (32 + 48 + 16 = 96)\n",
    "print(\"Output shape:\", output_tensor.shape)"
   ]
  },
  {
   "cell_type": "markdown",
   "metadata": {},
   "source": [
    "## Section 3: Custom Loss Functions"
   ]
  },
  {
   "cell_type": "markdown",
   "metadata": {},
   "source": [
    "### Example: Triplet Loss\n",
    "\n",
    "Most custom losses can be implemented as simple Python functions that use differentiable PyTorch operations. Here is the triplet loss for metric learning."
   ]
  },
  {
   "cell_type": "code",
   "execution_count": 5,
   "metadata": {},
   "outputs": [
    {
     "name": "stdout",
     "output_type": "stream",
     "text": [
      "Triplet Loss: 1.013861060142517\n"
     ]
    }
   ],
   "source": [
    "def triplet_loss(anchor, positive, negative, margin=1.0):\n",
    "    \"\"\"Calculates the triplet loss.\"\"\"\n",
    "    distance_positive = F.pairwise_distance(anchor, positive, p=2)\n",
    "    distance_negative = F.pairwise_distance(anchor, negative, p=2)\n",
    "    \n",
    "    # We want d(a, p) + margin < d(a, n)  =>  d(a, p) - d(a, n) + margin < 0\n",
    "    losses = F.relu(distance_positive - distance_negative + margin)\n",
    "    \n",
    "    return losses.mean()\n",
    "\n",
    "# Create dummy embeddings\n",
    "anchor_embedding = torch.randn(10, 128, device=device)\n",
    "positive_embedding = torch.randn(10, 128, device=device)\n",
    "negative_embedding = torch.randn(10, 128, device=device)\n",
    "\n",
    "# Calculate loss\n",
    "loss = triplet_loss(anchor_embedding, positive_embedding, negative_embedding)\n",
    "print(f\"Triplet Loss: {loss.item()}\")"
   ]
  },
  {
   "cell_type": "markdown",
   "metadata": {},
   "source": [
    "### Example: Focal Loss\n",
    "\n",
    "Focal loss is another great example of a custom loss, designed to handle class imbalance by focusing on hard-to-classify examples. It's a modification of standard cross-entropy."
   ]
  },
  {
   "cell_type": "code",
   "execution_count": 6,
   "metadata": {},
   "outputs": [
    {
     "name": "stdout",
     "output_type": "stream",
     "text": [
      "Focal Loss: 0.3142664432525635\n"
     ]
    }
   ],
   "source": [
    "class FocalLoss(nn.Module):\n",
    "    def __init__(self, alpha=0.25, gamma=2.0, reduction='mean'):\n",
    "        super(FocalLoss, self).__init__()\n",
    "        self.alpha = alpha\n",
    "        self.gamma = gamma\n",
    "        self.reduction = reduction\n",
    "\n",
    "    def forward(self, inputs, targets):\n",
    "        # inputs are model logits, targets are class indices\n",
    "        ce_loss = F.cross_entropy(inputs, targets, reduction='none')\n",
    "        pt = torch.exp(-ce_loss)\n",
    "        focal_loss = self.alpha * (1 - pt)**self.gamma * ce_loss\n",
    "\n",
    "        if self.reduction == 'mean':\n",
    "            return focal_loss.mean()\n",
    "        elif self.reduction == 'sum':\n",
    "            return focal_loss.sum()\n",
    "        else:\n",
    "            return focal_loss\n",
    "\n",
    "# Dummy data\n",
    "logits = torch.randn(10, 5, device=device) # 10 samples, 5 classes\n",
    "labels = torch.randint(0, 5, (10,), device=device)\n",
    "\n",
    "focal_loss_fn = FocalLoss()\n",
    "loss = focal_loss_fn(logits, labels)\n",
    "print(f\"Focal Loss: {loss.item()}\")"
   ]
  },
  {
   "cell_type": "markdown",
   "metadata": {},
   "source": [
    "## Section 4: Advanced Training Techniques"
   ]
  },
  {
   "cell_type": "markdown",
   "metadata": {},
   "source": [
    "### Optimizers and Schedulers\n",
    "\n",
    "Choosing the right optimizer and learning rate schedule is critical. `AdamW` is the modern default for many tasks. `CosineAnnealingLR` is a powerful and popular scheduler."
   ]
  },
  {
   "cell_type": "code",
   "execution_count": 7,
   "metadata": {},
   "outputs": [
    {
     "name": "stdout",
     "output_type": "stream",
     "text": [
      "Initial Learning Rate: 0.001\n",
      "Learning Rate after 10 steps: 0.0009755282581475767\n"
     ]
    },
    {
     "name": "stderr",
     "output_type": "stream",
     "text": [
      "/Users/jainarchita/miniconda3/envs/ai_env/lib/python3.9/site-packages/torch/optim/lr_scheduler.py:182: UserWarning: Detected call of `lr_scheduler.step()` before `optimizer.step()`. In PyTorch 1.1.0 and later, you should call them in the opposite order: `optimizer.step()` before `lr_scheduler.step()`.  Failure to do this will result in PyTorch skipping the first value of the learning rate schedule. See more details at https://pytorch.org/docs/stable/optim.html#how-to-adjust-learning-rate\n",
      "  warnings.warn(\n"
     ]
    }
   ],
   "source": [
    "from torch.optim import AdamW\n",
    "from torch.optim.lr_scheduler import CosineAnnealingLR\n",
    "\n",
    "model = SimpleModel().to(device)\n",
    "\n",
    "# The recommended optimizer for Transformers and other modern architectures\n",
    "optimizer = AdamW(model.parameters(), lr=1e-3, weight_decay=1e-2)\n",
    "\n",
    "# A scheduler that smoothly varies the learning rate\n",
    "# T_max is the number of iterations for one half of a cosine cycle\n",
    "scheduler = CosineAnnealingLR(optimizer, T_max=100) \n",
    "\n",
    "print(\"Initial Learning Rate:\", scheduler.get_last_lr()[0])\n",
    "\n",
    "# Simulate 10 training steps\n",
    "for i in range(10):\n",
    "    # In a real loop, you'd do: optimizer.step(); scheduler.step()\n",
    "    scheduler.step()\n",
    "\n",
    "print(\"Learning Rate after 10 steps:\", scheduler.get_last_lr()[0])"
   ]
  },
  {
   "cell_type": "markdown",
   "metadata": {},
   "source": [
    "### Gradient Accumulation\n",
    "\n",
    "This technique lets you simulate a larger batch size than your GPU memory can handle. It's essential for training large models."
   ]
  },
  {
   "cell_type": "code",
   "execution_count": 8,
   "metadata": {},
   "outputs": [
    {
     "name": "stdout",
     "output_type": "stream",
     "text": [
      "Step 4: Optimizer step (effective batch size: 32)\n",
      "Step 8: Optimizer step (effective batch size: 32)\n",
      "Step 12: Optimizer step (effective batch size: 32)\n",
      "Step 16: Optimizer step (effective batch size: 32)\n"
     ]
    }
   ],
   "source": [
    "accumulation_steps = 4\n",
    "optimizer = AdamW(model.parameters(), lr=1e-3)\n",
    "dummy_dataloader = [(torch.randn(8, 10), torch.randn(8,5)) for _ in range(16)] # Batch size of 8\n",
    "\n",
    "optimizer.zero_grad() # Reset gradients once before the loop\n",
    "\n",
    "for i, (inputs, targets) in enumerate(dummy_dataloader):\n",
    "    inputs, targets = inputs.to(device), targets.to(device)\n",
    "    \n",
    "    # Forward pass\n",
    "    outputs = model(inputs)\n",
    "    loss = nn.MSELoss()(outputs, targets)\n",
    "    \n",
    "    # Scale loss for accumulation\n",
    "    loss = loss / accumulation_steps\n",
    "    \n",
    "    # Backward pass (gradients are accumulated)\n",
    "    loss.backward()\n",
    "    \n",
    "    # Update weights only after accumulating gradients for `accumulation_steps` batches\n",
    "    if (i + 1) % accumulation_steps == 0:\n",
    "        print(f\"Step {i+1}: Optimizer step (effective batch size: {8 * accumulation_steps})\")\n",
    "        optimizer.step()       # Update weights\n",
    "        optimizer.zero_grad()  # Reset gradients for the next accumulation cycle"
   ]
  },
  {
   "cell_type": "markdown",
   "metadata": {},
   "source": [
    "### Mixed Precision Training with `torch.cuda.amp`\n",
    "\n",
    "Automatic Mixed Precision (AMP) significantly speeds up training and reduces memory usage on modern NVIDIA GPUs by using `float16` for certain operations. The implementation is remarkably simple."
   ]
  },
  {
   "cell_type": "code",
   "execution_count": 9,
   "metadata": {},
   "outputs": [
    {
     "name": "stdout",
     "output_type": "stream",
     "text": [
      "AMP requires a CUDA-enabled GPU.\n"
     ]
    }
   ],
   "source": [
    "from torch.cuda.amp import GradScaler, autocast\n",
    "\n",
    "# Only runs on CUDA-enabled devices\n",
    "if device == 'cuda':\n",
    "    model = SimpleModel().to(device)\n",
    "    optimizer = AdamW(model.parameters(), lr=1e-3)\n",
    "    loss_fn = nn.MSELoss()\n",
    "    \n",
    "    # Create a gradient scaler\n",
    "    scaler = GradScaler()\n",
    "    \n",
    "    # Dummy data\n",
    "    inputs = torch.randn(8, 10, device=device)\n",
    "    targets = torch.randn(8, 5, device=device)\n",
    "    \n",
    "    optimizer.zero_grad()\n",
    "    \n",
    "    # Use the autocast context manager\n",
    "    with autocast():\n",
    "        output = model(inputs)\n",
    "        loss = loss_fn(output, targets)\n",
    "    \n",
    "    # scaler.scale(loss) scales the loss. Gradients are unscaled by scaler.step().\n",
    "    scaler.scale(loss).backward()\n",
    "    scaler.step(optimizer)\n",
    "    scaler.update()\n",
    "    \n",
    "    print(\"Mixed precision training step completed.\")\n",
    "else:\n",
    "    print(\"AMP requires a CUDA-enabled GPU.\")"
   ]
  },
  {
   "cell_type": "markdown",
   "metadata": {},
   "source": [
    "### Distributed Training with `DistributedDataParallel` (DDP)\n",
    "\n",
    "`DistributedDataParallel` (DDP) is the standard, most performant way to do multi-GPU training. Unlike `DataParallel`, it spawns a separate process for each GPU, eliminating the bottlenecks of the older method.\n",
    "\n",
    "**Important:** DDP scripts cannot be run directly inside a notebook because they require multiple processes to be launched from a script. Below is a complete, self-contained Python script. To run it:\n",
    "\n",
    "1.  Save the code below as a Python file (e.g., `ddp_example.py`).\n",
    "2.  From your terminal, run it using `torchrun`. If you have 2 GPUs, you would run:\n",
    "    ```bash\n",
    "    torchrun --nproc_per_node=2 ddp_example.py\n",
    "    ```"
   ]
  },
  {
   "cell_type": "code",
   "execution_count": 12,
   "metadata": {},
   "outputs": [
    {
     "name": "stdout",
     "output_type": "stream",
     "text": [
      "Overwriting ddp_example.py\n"
     ]
    }
   ],
   "source": [
    "%%writefile ddp_example.py\n",
    "import os\n",
    "import torch\n",
    "import torch.nn as nn\n",
    "from torch.utils.data import Dataset, DataLoader\n",
    "from torch.utils.data.distributed import DistributedSampler\n",
    "import torch.distributed as dist\n",
    "from torch.nn.parallel import DistributedDataParallel as DDP\n",
    "\n",
    "def setup(rank, world_size):\n",
    "    \"\"\"Initializes the distributed process group.\"\"\"\n",
    "    os.environ['MASTER_ADDR'] = 'localhost'\n",
    "    os.environ['MASTER_PORT'] = '12355'\n",
    "    # Initializes the distributed backend (nccl is recommended for NVIDIA GPUs)\n",
    "    dist.init_process_group(\"nccl\", rank=rank, world_size=world_size)\n",
    "    torch.cuda.set_device(rank)\n",
    "\n",
    "def cleanup():\n",
    "    \"\"\"Cleans up the distributed process group.\"\"\"\n",
    "    dist.destroy_process_group()\n",
    "\n",
    "class TrivialDataset(Dataset):\n",
    "    \"\"\"A simple dataset for demonstration purposes.\"\"\"\n",
    "    def __init__(self, size=128):\n",
    "        self.size = size\n",
    "    \n",
    "    def __len__(self):\n",
    "        return self.size\n",
    "    \n",
    "    def __getitem__(self, idx):\n",
    "        return torch.randn(10), torch.randn(5)\n",
    "\n",
    "def main():\n",
    "    # DDP environment variables are set by torchrun\n",
    "    local_rank = int(os.environ[\"LOCAL_RANK\"])\n",
    "    world_size = int(os.environ[\"WORLD_SIZE\"])\n",
    "    \n",
    "    setup(local_rank, world_size)\n",
    "    \n",
    "    print(f\"Running DDP on rank {local_rank}.\")\n",
    "\n",
    "    # 1. Create model and move it to the correct device for this process\n",
    "    model = nn.Linear(10, 5).to(local_rank)\n",
    "    # 2. Wrap the model with DDP\n",
    "    ddp_model = DDP(model, device_ids=[local_rank])\n",
    "\n",
    "    loss_fn = nn.MSELoss()\n",
    "    optimizer = torch.optim.SGD(ddp_model.parameters(), lr=0.001)\n",
    "\n",
    "    # 3. Use DistributedSampler to ensure each process gets a different slice of data\n",
    "    dataset = TrivialDataset()\n",
    "    sampler = DistributedSampler(dataset, num_replicas=world_size, rank=local_rank)\n",
    "    dataloader = DataLoader(dataset, batch_size=8, sampler=sampler)\n",
    "\n",
    "    # Training loop\n",
    "    for epoch in range(2):\n",
    "        # The sampler needs to be informed of the current epoch\n",
    "        sampler.set_epoch(epoch)\n",
    "        for data, labels in dataloader:\n",
    "            data, labels = data.to(local_rank), labels.to(local_rank)\n",
    "            \n",
    "            optimizer.zero_grad()\n",
    "            outputs = ddp_model(data)\n",
    "            loss = loss_fn(outputs, labels)\n",
    "            loss.backward() # Gradients are automatically averaged across all processes\n",
    "            optimizer.step()\n",
    "        print(f\"Rank {local_rank}, Epoch {epoch}, Loss: {loss.item()}\")\n",
    "\n",
    "    cleanup()\n",
    "\n",
    "if __name__ == \"__main__\":\n",
    "    main()"
   ]
  },
  {
   "cell_type": "markdown",
   "metadata": {},
   "source": [
    "## Section 5: Advanced PyTorch Utilities"
   ]
  },
  {
   "cell_type": "markdown",
   "metadata": {},
   "source": [
    "### Hooks\n",
    "\n",
    "Hooks are powerful tools for debugging and analysis, allowing you to inspect activations or gradients without modifying your model's code. Here, we'll use a forward hook to get the output of an intermediate layer."
   ]
  },
  {
   "cell_type": "code",
   "execution_count": null,
   "metadata": {},
   "outputs": [],
   "source": [
    "activation_features = {}\n",
    "\n",
    "def get_activation(name):\n",
    "    # This is the hook function\n",
    "    def hook(model, input, output):\n",
    "        activation_features[name] = output.detach()\n",
    "    return hook\n",
    "\n",
    "model = SimpleModel().to(device)\n",
    "\n",
    "# Register a forward hook on the first linear layer's output (after the activation)\n",
    "model.activation.register_forward_hook(get_activation('relu1'))\n",
    "\n",
    "# Run a forward pass\n",
    "output = model(torch.randn(1, 10, device=device))\n",
    "\n",
    "# The hook has now captured the output of the ReLU layer\n",
    "print(\"Shape of captured ReLU activation:\", activation_features['relu1'].shape)"
   ]
  },
  {
   "cell_type": "markdown",
   "metadata": {},
   "source": [
    "### `torch.compile` (PyTorch 2.x)\n",
    "\n",
    "The simplest way to get a significant performance boost. `torch.compile` JIT-compiles your model into an optimized graph, often with no code changes required."
   ]
  },
  {
   "cell_type": "code",
   "execution_count": null,
   "metadata": {},
   "outputs": [],
   "source": [
    "model = SimpleModel().to(device)\n",
    "\n",
    "# This single line can provide significant speedups\n",
    "compiled_model = torch.compile(model)\n",
    "\n",
    "# Now, just use the compiled model as you would the original\n",
    "input_tensor = torch.randn(16, 10, device=device)\n",
    "output = compiled_model(input_tensor)\n",
    "\n",
    "print(\"Forward pass with compiled model completed.\")\n",
    "print(\"Output shape:\", output.shape)"
   ]
  },
  {
   "cell_type": "markdown",
   "metadata": {},
   "source": [
    "## Section 6: Specialized Architectures (Further Reading)\n",
    "\n",
    "While implementing these from scratch is beyond the scope of this tutorial, PyTorch has a rich ecosystem of libraries that provide optimized building blocks for specialized domains.\n",
    "\n",
    "- **Graph Neural Networks:** For working with graph-structured data, the go-to library is [**PyTorch Geometric**](https://pytorch-geometric.readthedocs.io/en/latest/).\n",
    "\n",
    "- **Transformers:** For NLP and Vision Transformers, the [**Hugging Face `transformers`**](https://huggingface.co/docs/transformers/index) library is the undisputed industry standard, providing thousands of pre-trained models and easy-to-use APIs.\n",
    "\n",
    "- **Reinforcement Learning & Meta-Learning:** PyTorch's dynamic graph is ideal for these domains. While there are many libraries, understanding the core principles from this notebook will allow you to build custom training loops required for RL and MAML."
   ]
  },
  {
   "cell_type": "markdown",
   "metadata": {},
   "source": [
    "## Conclusion\n",
    "\n",
    "This notebook has covered the practical implementation of several advanced PyTorch techniques. By mastering `nn.Module` subclassing, custom loss functions, and modern training strategies, you can build custom NN architecture for your Deep Learning Experiments."
   ]
  }
 ],
 "metadata": {
  "kernelspec": {
   "display_name": "ai_env",
   "language": "python",
   "name": "python3"
  },
  "language_info": {
   "codemirror_mode": {
    "name": "ipython",
    "version": 3
   },
   "file_extension": ".py",
   "mimetype": "text/x-python",
   "name": "python",
   "nbconvert_exporter": "python",
   "pygments_lexer": "ipython3",
   "version": "3.9.21"
  }
 },
 "nbformat": 4,
 "nbformat_minor": 4
}
